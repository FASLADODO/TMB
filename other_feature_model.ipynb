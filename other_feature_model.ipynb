{
 "cells": [
  {
   "cell_type": "code",
   "execution_count": 1,
   "metadata": {},
   "outputs": [],
   "source": [
    "from __future__ import absolute_import, division, print_function, unicode_literals\n",
    "import matplotlib.pyplot as plt\n",
    "from matplotlib.colors import ListedColormap, LinearSegmentedColormap\n",
    "%matplotlib inline\n",
    "import numpy as np\n",
    "import os, shutil, glob, sys, math, cv2, re\n",
    "\n",
    "import albumentations as albu\n",
    "import pandas as pd\n",
    "import seaborn as sns"
   ]
  },
  {
   "cell_type": "code",
   "execution_count": 2,
   "metadata": {},
   "outputs": [],
   "source": [
    "import torch\n",
    "import torch.nn as nn\n",
    "import torch.nn.functional as F\n",
    "import torch.utils.checkpoint as cp\n",
    "from collections import OrderedDict\n",
    "# from torch.utils import load_state_dict_from_url\n",
    "from torch.utils.model_zoo import load_url as load_state_dict_from_url\n",
    "from torch import Tensor\n",
    "from torch.jit.annotations import List\n",
    "from torchsummary import summary\n",
    "from torchvision import models\n",
    "\n",
    "\n",
    "from sklearn.model_selection import train_test_split\n",
    "\n",
    "from torch.utils.data import DataLoader\n",
    "from torch.utils.data import Dataset as BaseDataset"
   ]
  },
  {
   "cell_type": "markdown",
   "metadata": {},
   "source": [
    "# model"
   ]
  },
  {
   "cell_type": "code",
   "execution_count": 4,
   "metadata": {},
   "outputs": [],
   "source": [
    "# 2D model\n",
    "class classifier(nn.Module):\n",
    "    def __init__(self, num_features = 100, nclass = 3):\n",
    "        super().__init__()\n",
    "        self.n_features = num_features\n",
    "        self.wm = nn.Parameter(torch.Tensor(num_features, 512))\n",
    "        self.dense1 = nn.Linear(512, 128)\n",
    "        self.dense2 = nn.Linear(128, 16)\n",
    "        self.dense3 = nn.Linear(16, nclass)\n",
    "        self.act = nn.ReLU()\n",
    "        \n",
    "        self.wm = nn.init.normal_(self.wm)\n",
    "    def forward(self,x):\n",
    "        x = x.view(-1, self.n_features, 1)\n",
    "        x = x * self.wm\n",
    "    \n",
    "        x = torch.mean(x, dim=1)\n",
    "        x = self.dense1(x)\n",
    "        x = self.act(x)\n",
    "        x = self.dense2(x)\n",
    "        x = self.act(x)\n",
    "        x = self.dense3(x)\n",
    "        return x"
   ]
  },
  {
   "cell_type": "code",
   "execution_count": 5,
   "metadata": {},
   "outputs": [],
   "source": [
    "# model = classifier(num_features=60564)\n",
    "# model.eval()\n",
    "# inp = torch.randn(32,60564)\n",
    "# a= model(inp)"
   ]
  },
  {
   "cell_type": "code",
   "execution_count": 5,
   "metadata": {},
   "outputs": [],
   "source": [
    "class Flatten(nn.Module):\n",
    "    def forward(self, x):\n",
    "        x = x.view(x.size()[0], -1)\n",
    "        return x"
   ]
  },
  {
   "cell_type": "code",
   "execution_count": 6,
   "metadata": {},
   "outputs": [],
   "source": [
    "# 2D model\n",
    "class attentionPart(nn.Module):\n",
    "    def __init__(self, d_model = 512):\n",
    "        super().__init__()\n",
    "        self.transformer_encoder_layer = nn.TransformerEncoderLayer(d_model=d_model, nhead=8)\n",
    "\n",
    "        self.attention_layer = nn.Sequential(\n",
    "            nn.TransformerEncoder(self.transformer_encoder_layer, num_layers=6),\n",
    "            nn.AdaptiveMaxPool1d(1),\n",
    "            Flatten(),\n",
    "        )\n",
    "       \n",
    "    def forward(self, x):       \n",
    "        attention = self.attention_layer(x)\n",
    "        return attention"
   ]
  },
  {
   "cell_type": "code",
   "execution_count": 7,
   "metadata": {},
   "outputs": [],
   "source": [
    "class PositionalEncoding(nn.Module):\n",
    "\n",
    "    def __init__(self, d_model, dropout=0.1, max_len=1000):\n",
    "        super(PositionalEncoding, self).__init__()\n",
    "        self.dropout = nn.Dropout(p=dropout)\n",
    "\n",
    "        pe = torch.zeros(max_len, d_model)\n",
    "        position = torch.arange(0, max_len, dtype=torch.float).unsqueeze(1)\n",
    "        div_term = torch.exp(torch.arange(0, d_model, 2).float() * (-math.log(10000.0) / d_model))\n",
    "        pe[:, 0::2] = torch.sin(position * div_term)\n",
    "        pe[:, 1::2] = torch.cos(position * div_term)\n",
    "        pe = pe.unsqueeze(0).transpose(0, 1)\n",
    "        self.register_buffer('pe', pe)\n",
    "\n",
    "    def forward(self, x):\n",
    "        x = x + self.pe[:x.size(0), :]\n",
    "        return self.dropout(x)"
   ]
  },
  {
   "cell_type": "code",
   "execution_count": 9,
   "metadata": {},
   "outputs": [],
   "source": [
    "# 2D model\n",
    "class classifier(nn.Module):\n",
    "    def __init__(self, max_images = 200, d_model = 512, dropout=0.1, nclass=10):\n",
    "        super().__init__()\n",
    "        self.tumor_grade = 2\n",
    "        self.max_images = max_images\n",
    "        self.nclass = nclass\n",
    "        self.CNN = vgg16_bn(pretrained = True)\n",
    "#         self.CNN.load_state_dict(torch.load(\"./weight/vgg16_loss:CE_bs:25epoch:3_fscore:0.9987.h5\"), strict = False)\n",
    "     \n",
    "        self.pos_encoder = PositionalEncoding(d_model=d_model, dropout=dropout, max_len=max_images)\n",
    "        self.attention_layer = attentionPart(d_model)\n",
    "        \n",
    "        self.classify = nn.Sequential(\n",
    "            nn.Linear(self.max_images + self.tumor_grade, 32),\n",
    "            nn.ReLU(True),\n",
    "            nn.Dropout(),\n",
    "            nn.Linear(32, nclass)\n",
    "        )\n",
    "        # softmax\n",
    "    def forward(self, x, y):\n",
    "        batch_size, timesteps, C, H, W = x.size()\n",
    "        c_in = x.view(batch_size * timesteps, C, H, W)\n",
    "        c_out = self.CNN(c_in)\n",
    "        r_in = c_out.view(batch_size, timesteps, -1)\n",
    "#         print(r_in.shape)\n",
    "        r_in = self.pos_encoder(r_in)\n",
    "#         print(r_in.shape)\n",
    "        attention = self.attention_layer(r_in)\n",
    "#         print(attention.shape)\n",
    "        attention = torch.cat((attention, y), 1)\n",
    "        cls = self.classify(attention)\n",
    "        return cls"
   ]
  },
  {
   "cell_type": "markdown",
   "metadata": {},
   "source": [
    "# data"
   ]
  },
  {
   "cell_type": "code",
   "execution_count": 6,
   "metadata": {},
   "outputs": [],
   "source": [
    "def cvt2Classy(label):\n",
    "    cut = np.array([100,200])\n",
    "    \n",
    "    _foo = (label < cut)*1\n",
    "    if np.sum(_foo) == 0:\n",
    "        return len(cut)\n",
    "    else:\n",
    "        for _temp, _i in enumerate(_foo):\n",
    "            if _i == 1:\n",
    "                return _temp"
   ]
  },
  {
   "cell_type": "code",
   "execution_count": 7,
   "metadata": {},
   "outputs": [],
   "source": [
    "# 數量500多，有些沒有images\n",
    "import pandas as pd\n",
    "df = pd.read_csv('./data/coad_Mutation_Count.txt', delimiter=\"\\t\")\n",
    "cohort_count_dict = {row[1]: row[3] for index,row in df.iterrows()}"
   ]
  },
  {
   "cell_type": "code",
   "execution_count": 8,
   "metadata": {},
   "outputs": [],
   "source": [
    "import pickle\n",
    "with open('./no_RNA_no_onehot_other_feature.pkl', 'rb') as fp:\n",
    "    cohort_other_feature_dict = pickle.load(fp)"
   ]
  },
  {
   "cell_type": "code",
   "execution_count": 9,
   "metadata": {},
   "outputs": [
    {
     "name": "stdout",
     "output_type": "stream",
     "text": [
      "239 118\n"
     ]
    }
   ],
   "source": [
    "train_cohorts, valid_cohorts = train_test_split(\n",
    "    list(cohort_other_feature_dict.keys()), test_size=0.33, random_state=0)\n",
    "print(len(train_cohorts), len(valid_cohorts))"
   ]
  },
  {
   "cell_type": "markdown",
   "metadata": {},
   "source": [
    "# dataset"
   ]
  },
  {
   "cell_type": "code",
   "execution_count": 10,
   "metadata": {},
   "outputs": [],
   "source": [
    "class Dataset(BaseDataset):\n",
    "    \n",
    "    def __init__(self, cohort, feature_dict, label_dict):\n",
    "        self.cohort = cohort\n",
    "        self.feature_dict = feature_dict\n",
    "        self.label_dict = label_dict\n",
    "        \n",
    "    def __getitem__(self, i):\n",
    "        cohort_name = self.cohort[i]\n",
    "        feature = self.feature_dict[cohort_name]\n",
    "        label = self.label_dict[cohort_name]\n",
    "        label = cvt2Classy(label)\n",
    "        return feature.astype('float32'), label\n",
    "        \n",
    "    def __len__(self):\n",
    "        return len(self.cohort)"
   ]
  },
  {
   "cell_type": "markdown",
   "metadata": {},
   "source": [
    "# model settings"
   ]
  },
  {
   "cell_type": "code",
   "execution_count": 11,
   "metadata": {},
   "outputs": [],
   "source": [
    "import utils"
   ]
  },
  {
   "cell_type": "code",
   "execution_count": 12,
   "metadata": {},
   "outputs": [
    {
     "name": "stdout",
     "output_type": "stream",
     "text": [
      "17\n"
     ]
    }
   ],
   "source": [
    "bs = 32\n",
    "epoch = 60\n",
    "init_lr = 1e-5\n",
    "DEVICE = 'cuda' if torch.cuda.is_available() else 'cpu'\n",
    "\n",
    "target = 'cls'\n",
    "nclass = 3\n",
    "\n",
    "nfeature = None\n",
    "for key, value in cohort_other_feature_dict.items():\n",
    "    if nfeature is None:\n",
    "        nfeature = len(value)\n",
    "    if nfeature != len(value):\n",
    "        print(\"Error, feature number error\")\n",
    "print(nfeature)"
   ]
  },
  {
   "cell_type": "code",
   "execution_count": 13,
   "metadata": {},
   "outputs": [],
   "source": [
    "model = classifier(num_features = nfeature, nclass = nclass)"
   ]
  },
  {
   "cell_type": "code",
   "execution_count": 14,
   "metadata": {},
   "outputs": [],
   "source": [
    "train_dataset = Dataset(\n",
    "    train_cohorts,\n",
    "    cohort_other_feature_dict,\n",
    "    cohort_count_dict\n",
    ")\n",
    "\n",
    "valid_dataset = Dataset(\n",
    "    valid_cohorts,\n",
    "    cohort_other_feature_dict,\n",
    "    cohort_count_dict\n",
    ")"
   ]
  },
  {
   "cell_type": "code",
   "execution_count": 15,
   "metadata": {},
   "outputs": [],
   "source": [
    "train_loader = DataLoader(train_dataset, batch_size=bs, shuffle=True, pin_memory=True, num_workers=0)\n",
    "valid_loader = DataLoader(valid_dataset, batch_size=bs, shuffle=False, pin_memory=True, num_workers=0)"
   ]
  },
  {
   "cell_type": "code",
   "execution_count": 20,
   "metadata": {},
   "outputs": [],
   "source": [
    "train_loss = 'ce'\n",
    "train_metric = 'acc'\n",
    "\n",
    "loss = utils.metrics.CrossEntropy(weight=class_weights.astype('float32'))\n",
    "metrics = [\n",
    "    utils.metrics.Accuracy(),\n",
    "]\n"
   ]
  },
  {
   "cell_type": "code",
   "execution_count": 21,
   "metadata": {},
   "outputs": [],
   "source": [
    "optimizer = torch.optim.Adam([ \n",
    "    dict(params=model.parameters(), lr=init_lr),\n",
    "])\n",
    "\n",
    "train_epoch = utils.train.TrainEpoch(\n",
    "    model, \n",
    "    loss=loss, \n",
    "    metrics=metrics, \n",
    "    optimizer=optimizer,\n",
    "    device=DEVICE,\n",
    "    verbose=True,\n",
    ")\n",
    "\n",
    "valid_epoch = utils.train.ValidEpoch(\n",
    "    model, \n",
    "    loss=loss, \n",
    "    metrics=metrics, \n",
    "    device=DEVICE,\n",
    "    verbose=True,\n",
    ")"
   ]
  },
  {
   "cell_type": "code",
   "execution_count": 22,
   "metadata": {},
   "outputs": [],
   "source": [
    "# optimizer = torch.optim.Adam([ \n",
    "#     dict(params=model.parameters(), lr=init_lr),\n",
    "# ])\n",
    "\n",
    "# loss_f = nn.CrossEntropyLoss()\n",
    "# metric_f = utils.metrics.Accuracy()"
   ]
  },
  {
   "cell_type": "code",
   "execution_count": 23,
   "metadata": {
    "scrolled": true
   },
   "outputs": [
    {
     "name": "stdout",
     "output_type": "stream",
     "text": [
      "Epoch 0 loss:9.2208 acc:0.4406 \r\n"
     ]
    },
    {
     "ename": "KeyboardInterrupt",
     "evalue": "",
     "output_type": "error",
     "traceback": [
      "\u001b[0;31m---------------------------------------------------------------------------\u001b[0m",
      "\u001b[0;31mKeyboardInterrupt\u001b[0m                         Traceback (most recent call last)",
      "\u001b[0;32m<ipython-input-23-c216fee8f73d>\u001b[0m in \u001b[0;36m<module>\u001b[0;34m\u001b[0m\n\u001b[1;32m      9\u001b[0m         \u001b[0mpred\u001b[0m \u001b[0;34m=\u001b[0m \u001b[0mmodel\u001b[0m\u001b[0;34m(\u001b[0m\u001b[0mfeature\u001b[0m\u001b[0;34m)\u001b[0m\u001b[0;34m\u001b[0m\u001b[0;34m\u001b[0m\u001b[0m\n\u001b[1;32m     10\u001b[0m         \u001b[0mloss\u001b[0m \u001b[0;34m=\u001b[0m \u001b[0mloss_f\u001b[0m\u001b[0;34m(\u001b[0m\u001b[0mpred\u001b[0m\u001b[0;34m,\u001b[0m \u001b[0mlabel\u001b[0m\u001b[0;34m)\u001b[0m\u001b[0;34m\u001b[0m\u001b[0;34m\u001b[0m\u001b[0m\n\u001b[0;32m---> 11\u001b[0;31m         \u001b[0mloss\u001b[0m\u001b[0;34m.\u001b[0m\u001b[0mbackward\u001b[0m\u001b[0;34m(\u001b[0m\u001b[0;34m)\u001b[0m\u001b[0;34m\u001b[0m\u001b[0;34m\u001b[0m\u001b[0m\n\u001b[0m\u001b[1;32m     12\u001b[0m         \u001b[0moptimizer\u001b[0m\u001b[0;34m.\u001b[0m\u001b[0mstep\u001b[0m\u001b[0;34m(\u001b[0m\u001b[0;34m)\u001b[0m\u001b[0;34m\u001b[0m\u001b[0;34m\u001b[0m\u001b[0m\n\u001b[1;32m     13\u001b[0m         \u001b[0mtotal_loss\u001b[0m \u001b[0;34m+=\u001b[0m \u001b[0mloss\u001b[0m\u001b[0;34m.\u001b[0m\u001b[0mdetach\u001b[0m\u001b[0;34m(\u001b[0m\u001b[0;34m)\u001b[0m\u001b[0;34m.\u001b[0m\u001b[0mcpu\u001b[0m\u001b[0;34m(\u001b[0m\u001b[0;34m)\u001b[0m\u001b[0;34m.\u001b[0m\u001b[0mnumpy\u001b[0m\u001b[0;34m(\u001b[0m\u001b[0;34m)\u001b[0m\u001b[0;34m\u001b[0m\u001b[0;34m\u001b[0m\u001b[0m\n",
      "\u001b[0;32m/opt/conda/lib/python3.6/site-packages/torch/tensor.py\u001b[0m in \u001b[0;36mbackward\u001b[0;34m(self, gradient, retain_graph, create_graph)\u001b[0m\n\u001b[1;32m    183\u001b[0m                 \u001b[0mproducts\u001b[0m\u001b[0;34m.\u001b[0m \u001b[0mDefaults\u001b[0m \u001b[0mto\u001b[0m\u001b[0;31m \u001b[0m\u001b[0;31m`\u001b[0m\u001b[0;31m`\u001b[0m\u001b[0;32mFalse\u001b[0m\u001b[0;31m`\u001b[0m\u001b[0;31m`\u001b[0m\u001b[0;34m.\u001b[0m\u001b[0;34m\u001b[0m\u001b[0;34m\u001b[0m\u001b[0m\n\u001b[1;32m    184\u001b[0m         \"\"\"\n\u001b[0;32m--> 185\u001b[0;31m         \u001b[0mtorch\u001b[0m\u001b[0;34m.\u001b[0m\u001b[0mautograd\u001b[0m\u001b[0;34m.\u001b[0m\u001b[0mbackward\u001b[0m\u001b[0;34m(\u001b[0m\u001b[0mself\u001b[0m\u001b[0;34m,\u001b[0m \u001b[0mgradient\u001b[0m\u001b[0;34m,\u001b[0m \u001b[0mretain_graph\u001b[0m\u001b[0;34m,\u001b[0m \u001b[0mcreate_graph\u001b[0m\u001b[0;34m)\u001b[0m\u001b[0;34m\u001b[0m\u001b[0;34m\u001b[0m\u001b[0m\n\u001b[0m\u001b[1;32m    186\u001b[0m \u001b[0;34m\u001b[0m\u001b[0m\n\u001b[1;32m    187\u001b[0m     \u001b[0;32mdef\u001b[0m \u001b[0mregister_hook\u001b[0m\u001b[0;34m(\u001b[0m\u001b[0mself\u001b[0m\u001b[0;34m,\u001b[0m \u001b[0mhook\u001b[0m\u001b[0;34m)\u001b[0m\u001b[0;34m:\u001b[0m\u001b[0;34m\u001b[0m\u001b[0;34m\u001b[0m\u001b[0m\n",
      "\u001b[0;32m/opt/conda/lib/python3.6/site-packages/torch/autograd/__init__.py\u001b[0m in \u001b[0;36mbackward\u001b[0;34m(tensors, grad_tensors, retain_graph, create_graph, grad_variables)\u001b[0m\n\u001b[1;32m    125\u001b[0m     Variable._execution_engine.run_backward(\n\u001b[1;32m    126\u001b[0m         \u001b[0mtensors\u001b[0m\u001b[0;34m,\u001b[0m \u001b[0mgrad_tensors\u001b[0m\u001b[0;34m,\u001b[0m \u001b[0mretain_graph\u001b[0m\u001b[0;34m,\u001b[0m \u001b[0mcreate_graph\u001b[0m\u001b[0;34m,\u001b[0m\u001b[0;34m\u001b[0m\u001b[0;34m\u001b[0m\u001b[0m\n\u001b[0;32m--> 127\u001b[0;31m         allow_unreachable=True)  # allow_unreachable flag\n\u001b[0m\u001b[1;32m    128\u001b[0m \u001b[0;34m\u001b[0m\u001b[0m\n\u001b[1;32m    129\u001b[0m \u001b[0;34m\u001b[0m\u001b[0m\n",
      "\u001b[0;31mKeyboardInterrupt\u001b[0m: "
     ]
    }
   ],
   "source": [
    "# for e in range(epoch):\n",
    "#     model.train()\n",
    "#     total_loss = 0\n",
    "#     total_acc = 0\n",
    "#     bts = 0\n",
    "#     for data in train_loader:\n",
    "#         feature, label = data\n",
    "#         optimizer.zero_grad()\n",
    "#         pred = model(feature)\n",
    "#         loss = loss_f(pred, label)\n",
    "#         loss.backward()\n",
    "#         optimizer.step()\n",
    "#         total_loss += loss.detach().cpu().numpy()\n",
    "        \n",
    "#         acc = metric_f(pred, label)\n",
    "#         total_acc += acc.detach().cpu().numpy()\n",
    "#         bts += 1\n",
    "    # # model.eval()\n",
    "    # # valid_bts = 0\n",
    "    # # valid_loss = 0\n",
    "    # # for data in valid_loader:\n",
    "    # #     feature, label = data\n",
    "    # #     with torch.no_grad():\n",
    "    # #         pred = model(feature)\n",
    "    # #         loss = loss_f(pred, label)\n",
    "    # #     valid_loss += loss.detach().cpu().numpy()\n",
    "    # #     valid_bts += 1\n",
    "    # # print('Epoch {0} loss:{1:.4f} \\r'.format(e, valid_loss / valid_bts))\n",
    "#     print('Epoch {0} loss:{1:.4f} acc:{2:.4f} \\r'.format(e, total_loss / bts, total_acc / bts))"
   ]
  },
  {
   "cell_type": "code",
   "execution_count": 22,
   "metadata": {},
   "outputs": [
    {
     "name": "stdout",
     "output_type": "stream",
     "text": [
      "\n",
      "Epoch: 0, batch: 32\n",
      "train: 100%|██████████| 8/8 [00:00<00:00, 295.45it/s, cross entropy - 1.103, accuracy - 0.2276]\n",
      "valid: 100%|██████████| 4/4 [00:00<00:00, 534.00it/s, cross entropy - 1.103, accuracy - 0.1783]\n",
      "Model saved! /home/Tsung/pathology/weight/2020_10_07_12_12_MCnt-cls-loss_ce_bs_32_epoch0_acc:0.1783.h5\n",
      "1e-05\n",
      "\n",
      "Epoch: 1, batch: 32\n",
      "train: 100%|██████████| 8/8 [00:00<00:00, 363.21it/s, cross entropy - 1.099, accuracy - 0.2437]\n",
      "valid: 100%|██████████| 4/4 [00:00<00:00, 544.33it/s, cross entropy - 1.098, accuracy - 0.1783]\n",
      "1e-05\n",
      "\n",
      "Epoch: 2, batch: 32\n",
      "train: 100%|██████████| 8/8 [00:00<00:00, 359.77it/s, cross entropy - 1.098, accuracy - 0.2432]\n",
      "valid: 100%|██████████| 4/4 [00:00<00:00, 551.28it/s, cross entropy - 1.095, accuracy - 0.1939]\n",
      "Model saved! /home/Tsung/pathology/weight/2020_10_07_12_12_MCnt-cls-loss_ce_bs_32_epoch2_acc:0.1939.h5\n",
      "1e-05\n",
      "\n",
      "Epoch: 3, batch: 32\n",
      "train: 100%|██████████| 8/8 [00:00<00:00, 369.39it/s, cross entropy - 1.095, accuracy - 0.2398]\n",
      "valid: 100%|██████████| 4/4 [00:00<00:00, 557.36it/s, cross entropy - 1.093, accuracy - 0.1939]\n",
      "1e-05\n",
      "\n",
      "Epoch: 4, batch: 32\n",
      "train: 100%|██████████| 8/8 [00:00<00:00, 366.97it/s, cross entropy - 1.094, accuracy - 0.2437]\n",
      "valid: 100%|██████████| 4/4 [00:00<00:00, 554.40it/s, cross entropy - 1.091, accuracy - 0.2017]\n",
      "Model saved! /home/Tsung/pathology/weight/2020_10_07_12_12_MCnt-cls-loss_ce_bs_32_epoch4_acc:0.2017.h5\n",
      "1e-05\n",
      "\n",
      "Epoch: 5, batch: 32\n",
      "train: 100%|██████████| 8/8 [00:00<00:00, 370.08it/s, cross entropy - 1.092, accuracy - 0.2437]\n",
      "valid: 100%|██████████| 4/4 [00:00<00:00, 561.15it/s, cross entropy - 1.09, accuracy - 0.2287]\n"
     ]
    },
    {
     "name": "stderr",
     "output_type": "stream",
     "text": [
      "/home/Tsung/pathology/TMB/utils/metrics.py:16: UserWarning: To copy construct from a tensor, it is recommended to use sourceTensor.clone().detach() or sourceTensor.clone().detach().requires_grad_(True), rather than torch.tensor(sourceTensor).\n",
      "  self.weight = torch.tensor(self.weight).cuda()\n"
     ]
    },
    {
     "name": "stdout",
     "output_type": "stream",
     "text": [
      "Model saved! /home/Tsung/pathology/weight/2020_10_07_12_12_MCnt-cls-loss_ce_bs_32_epoch5_acc:0.2287.h5\n",
      "1e-05\n",
      "\n",
      "Epoch: 6, batch: 32\n",
      "train: 100%|██████████| 8/8 [00:00<00:00, 364.16it/s, cross entropy - 1.09, accuracy - 0.2687]\n",
      "valid: 100%|██████████| 4/4 [00:00<00:00, 531.72it/s, cross entropy - 1.088, accuracy - 0.2443]\n",
      "Model saved! /home/Tsung/pathology/weight/2020_10_07_12_12_MCnt-cls-loss_ce_bs_32_epoch6_acc:0.2443.h5\n",
      "1e-05\n",
      "\n",
      "Epoch: 7, batch: 32\n",
      "train: 100%|██████████| 8/8 [00:00<00:00, 365.89it/s, cross entropy - 1.09, accuracy - 0.2799]\n",
      "valid: 100%|██████████| 4/4 [00:00<00:00, 551.65it/s, cross entropy - 1.087, accuracy - 0.2756]\n",
      "Model saved! /home/Tsung/pathology/weight/2020_10_07_12_12_MCnt-cls-loss_ce_bs_32_epoch7_acc:0.2756.h5\n",
      "1e-05\n",
      "\n",
      "Epoch: 8, batch: 32\n",
      "train: 100%|██████████| 8/8 [00:00<00:00, 368.41it/s, cross entropy - 1.089, accuracy - 0.2839]\n",
      "valid: 100%|██████████| 4/4 [00:00<00:00, 553.10it/s, cross entropy - 1.086, accuracy - 0.2912]\n",
      "Model saved! /home/Tsung/pathology/weight/2020_10_07_12_12_MCnt-cls-loss_ce_bs_32_epoch8_acc:0.2912.h5\n",
      "1e-05\n",
      "\n",
      "Epoch: 9, batch: 32\n",
      "train: 100%|██████████| 8/8 [00:00<00:00, 365.06it/s, cross entropy - 1.088, accuracy - 0.3]\n",
      "valid: 100%|██████████| 4/4 [00:00<00:00, 549.68it/s, cross entropy - 1.085, accuracy - 0.3608]\n",
      "Model saved! /home/Tsung/pathology/weight/2020_10_07_12_12_MCnt-cls-loss_ce_bs_32_epoch9_acc:0.3608.h5\n",
      "1e-05\n",
      "\n",
      "Epoch: 10, batch: 32\n",
      "train: 100%|██████████| 8/8 [00:00<00:00, 412.15it/s, cross entropy - 1.089, accuracy - 0.2734]\n",
      "valid: 100%|██████████| 4/4 [00:00<00:00, 710.39it/s, cross entropy - 1.085, accuracy - 0.3651]\n",
      "Model saved! /home/Tsung/pathology/weight/2020_10_07_12_12_MCnt-cls-loss_ce_bs_32_epoch10_acc:0.3651.h5\n",
      "1e-05\n",
      "\n",
      "Epoch: 11, batch: 32\n",
      "train: 100%|██████████| 8/8 [00:00<00:00, 405.22it/s, cross entropy - 1.087, accuracy - 0.2995]\n",
      "valid: 100%|██████████| 4/4 [00:00<00:00, 697.28it/s, cross entropy - 1.083, accuracy - 0.3572]\n",
      "1e-05\n",
      "\n",
      "Epoch: 12, batch: 32\n",
      "train: 100%|██████████| 8/8 [00:00<00:00, 406.90it/s, cross entropy - 1.086, accuracy - 0.3107]\n",
      "valid: 100%|██████████| 4/4 [00:00<00:00, 720.33it/s, cross entropy - 1.083, accuracy - 0.353]\n",
      "1e-05\n",
      "\n",
      "Epoch: 13, batch: 32\n",
      "train: 100%|██████████| 8/8 [00:00<00:00, 427.93it/s, cross entropy - 1.088, accuracy - 0.3174]\n",
      "valid: 100%|██████████| 4/4 [00:00<00:00, 731.32it/s, cross entropy - 1.082, accuracy - 0.353]\n",
      "1e-05\n",
      "\n",
      "Epoch: 14, batch: 32\n",
      "train: 100%|██████████| 8/8 [00:00<00:00, 427.83it/s, cross entropy - 1.084, accuracy - 0.3508]\n",
      "valid: 100%|██████████| 4/4 [00:00<00:00, 713.92it/s, cross entropy - 1.081, accuracy - 0.3764]\n",
      "Model saved! /home/Tsung/pathology/weight/2020_10_07_12_12_MCnt-cls-loss_ce_bs_32_epoch14_acc:0.3764.h5\n",
      "1e-05\n",
      "\n",
      "Epoch: 15, batch: 32\n",
      "train: 100%|██████████| 8/8 [00:00<00:00, 424.55it/s, cross entropy - 1.083, accuracy - 0.3547]\n",
      "valid: 100%|██████████| 4/4 [00:00<00:00, 723.94it/s, cross entropy - 1.08, accuracy - 0.4077]\n",
      "Model saved! /home/Tsung/pathology/weight/2020_10_07_12_12_MCnt-cls-loss_ce_bs_32_epoch15_acc:0.4077.h5\n",
      "1e-05\n",
      "\n",
      "Epoch: 16, batch: 32\n",
      "train: 100%|██████████| 8/8 [00:00<00:00, 420.99it/s, cross entropy - 1.083, accuracy - 0.3875]\n",
      "valid: 100%|██████████| 4/4 [00:00<00:00, 684.95it/s, cross entropy - 1.08, accuracy - 0.3963]\n",
      "1e-05\n",
      "\n",
      "Epoch: 17, batch: 32\n",
      "train: 100%|██████████| 8/8 [00:00<00:00, 368.85it/s, cross entropy - 1.085, accuracy - 0.3938]\n",
      "valid: 100%|██████████| 4/4 [00:00<00:00, 575.78it/s, cross entropy - 1.079, accuracy - 0.3885]\n",
      "1e-05\n",
      "\n",
      "Epoch: 18, batch: 32\n",
      "train: 100%|██████████| 8/8 [00:00<00:00, 375.40it/s, cross entropy - 1.082, accuracy - 0.4104]\n",
      "valid: 100%|██████████| 4/4 [00:00<00:00, 546.85it/s, cross entropy - 1.078, accuracy - 0.3963]\n",
      "1e-05\n",
      "\n",
      "Epoch: 19, batch: 32\n",
      "train: 100%|██████████| 8/8 [00:00<00:00, 422.34it/s, cross entropy - 1.084, accuracy - 0.4206]\n",
      "valid: 100%|██████████| 4/4 [00:00<00:00, 735.42it/s, cross entropy - 1.078, accuracy - 0.4155]\n",
      "Model saved! /home/Tsung/pathology/weight/2020_10_07_12_12_MCnt-cls-loss_ce_bs_32_epoch19_acc:0.4155.h5\n",
      "1e-05\n",
      "\n",
      "Epoch: 20, batch: 32\n",
      "train: 100%|██████████| 8/8 [00:00<00:00, 423.31it/s, cross entropy - 1.081, accuracy - 0.4161]\n",
      "valid: 100%|██████████| 4/4 [00:00<00:00, 707.06it/s, cross entropy - 1.078, accuracy - 0.4268]\n",
      "Model saved! /home/Tsung/pathology/weight/2020_10_07_12_12_MCnt-cls-loss_ce_bs_32_epoch20_acc:0.4268.h5\n",
      "1e-05\n",
      "\n",
      "Epoch: 21, batch: 32\n",
      "train: 100%|██████████| 8/8 [00:00<00:00, 423.91it/s, cross entropy - 1.081, accuracy - 0.4161]\n",
      "valid: 100%|██████████| 4/4 [00:00<00:00, 722.66it/s, cross entropy - 1.077, accuracy - 0.4268]\n",
      "1e-05\n",
      "\n",
      "Epoch: 22, batch: 32\n",
      "train: 100%|██████████| 8/8 [00:00<00:00, 420.44it/s, cross entropy - 1.078, accuracy - 0.4245]\n",
      "valid: 100%|██████████| 4/4 [00:00<00:00, 701.80it/s, cross entropy - 1.077, accuracy - 0.4304]\n",
      "Model saved! /home/Tsung/pathology/weight/2020_10_07_12_12_MCnt-cls-loss_ce_bs_32_epoch22_acc:0.4304.h5\n",
      "1e-05\n",
      "\n",
      "Epoch: 23, batch: 32\n",
      "train: 100%|██████████| 8/8 [00:00<00:00, 426.32it/s, cross entropy - 1.079, accuracy - 0.4167]\n",
      "valid: 100%|██████████| 4/4 [00:00<00:00, 705.13it/s, cross entropy - 1.077, accuracy - 0.407]\n",
      "1e-05\n",
      "\n",
      "Epoch: 24, batch: 32\n",
      "train: 100%|██████████| 8/8 [00:00<00:00, 421.89it/s, cross entropy - 1.079, accuracy - 0.4284]\n",
      "valid: 100%|██████████| 4/4 [00:00<00:00, 718.57it/s, cross entropy - 1.076, accuracy - 0.4382]\n",
      "Model saved! /home/Tsung/pathology/weight/2020_10_07_12_12_MCnt-cls-loss_ce_bs_32_epoch24_acc:0.4382.h5\n",
      "1e-05\n",
      "\n",
      "Epoch: 25, batch: 32\n",
      "train: 100%|██████████| 8/8 [00:00<00:00, 412.42it/s, cross entropy - 1.077, accuracy - 0.4445]\n",
      "valid: 100%|██████████| 4/4 [00:00<00:00, 708.77it/s, cross entropy - 1.076, accuracy - 0.4304]\n",
      "1e-05\n",
      "\n",
      "Epoch: 26, batch: 32\n",
      "train: 100%|██████████| 8/8 [00:00<00:00, 407.00it/s, cross entropy - 1.079, accuracy - 0.4435]\n",
      "valid: 100%|██████████| 4/4 [00:00<00:00, 670.42it/s, cross entropy - 1.076, accuracy - 0.4226]\n",
      "1e-05\n",
      "\n",
      "Epoch: 27, batch: 32\n",
      "train: 100%|██████████| 8/8 [00:00<00:00, 415.63it/s, cross entropy - 1.078, accuracy - 0.4596]\n",
      "valid: 100%|██████████| 4/4 [00:00<00:00, 700.42it/s, cross entropy - 1.075, accuracy - 0.4304]\n",
      "1e-05\n",
      "\n",
      "Epoch: 28, batch: 32\n",
      "train: 100%|██████████| 8/8 [00:00<00:00, 414.04it/s, cross entropy - 1.077, accuracy - 0.4602]\n",
      "valid: 100%|██████████| 4/4 [00:00<00:00, 704.54it/s, cross entropy - 1.075, accuracy - 0.4382]\n",
      "1e-05\n",
      "\n",
      "Epoch: 29, batch: 32\n",
      "train: 100%|██████████| 8/8 [00:00<00:00, 416.79it/s, cross entropy - 1.074, accuracy - 0.468]\n",
      "valid: 100%|██████████| 4/4 [00:00<00:00, 665.89it/s, cross entropy - 1.074, accuracy - 0.4382]\n",
      "1e-05\n",
      "\n",
      "Epoch: 30, batch: 32\n",
      "train: 100%|██████████| 8/8 [00:00<00:00, 416.42it/s, cross entropy - 1.075, accuracy - 0.4602]\n",
      "valid: 100%|██████████| 4/4 [00:00<00:00, 702.56it/s, cross entropy - 1.074, accuracy - 0.4304]\n",
      "1e-05\n",
      "\n",
      "Epoch: 31, batch: 32\n",
      "train: 100%|██████████| 8/8 [00:00<00:00, 405.26it/s, cross entropy - 1.075, accuracy - 0.4607]\n",
      "valid: 100%|██████████| 4/4 [00:00<00:00, 693.82it/s, cross entropy - 1.073, accuracy - 0.4112]\n",
      "1e-05\n",
      "\n",
      "Epoch: 32, batch: 32\n",
      "train: 100%|██████████| 8/8 [00:00<00:00, 416.32it/s, cross entropy - 1.074, accuracy - 0.4562]\n",
      "valid: 100%|██████████| 4/4 [00:00<00:00, 685.68it/s, cross entropy - 1.073, accuracy - 0.4148]\n",
      "1e-05\n",
      "\n",
      "Epoch: 33, batch: 32\n",
      "train: 100%|██████████| 8/8 [00:00<00:00, 410.55it/s, cross entropy - 1.074, accuracy - 0.4464]\n",
      "valid: 100%|██████████| 4/4 [00:00<00:00, 690.76it/s, cross entropy - 1.073, accuracy - 0.4148]\n",
      "1e-05\n",
      "\n",
      "Epoch: 34, batch: 32\n",
      "train: 100%|██████████| 8/8 [00:00<00:00, 401.18it/s, cross entropy - 1.073, accuracy - 0.4729]\n",
      "valid: 100%|██████████| 4/4 [00:00<00:00, 699.87it/s, cross entropy - 1.072, accuracy - 0.4148]\n",
      "1e-05\n",
      "\n",
      "Epoch: 35, batch: 32\n",
      "train: 100%|██████████| 8/8 [00:00<00:00, 418.71it/s, cross entropy - 1.073, accuracy - 0.4807]\n",
      "valid: 100%|██████████| 4/4 [00:00<00:00, 706.44it/s, cross entropy - 1.071, accuracy - 0.4304]\n",
      "1e-05\n",
      "\n",
      "Epoch: 36, batch: 32\n",
      "train: 100%|██████████| 8/8 [00:00<00:00, 414.72it/s, cross entropy - 1.072, accuracy - 0.4763]\n",
      "valid: 100%|██████████| 4/4 [00:00<00:00, 721.32it/s, cross entropy - 1.071, accuracy - 0.4304]\n",
      "1e-05\n",
      "\n",
      "Epoch: 37, batch: 32\n",
      "train: 100%|██████████| 8/8 [00:00<00:00, 412.24it/s, cross entropy - 1.072, accuracy - 0.4719]\n"
     ]
    },
    {
     "name": "stdout",
     "output_type": "stream",
     "text": [
      "valid: 100%|██████████| 4/4 [00:00<00:00, 712.38it/s, cross entropy - 1.071, accuracy - 0.4616]\n",
      "Model saved! /home/Tsung/pathology/weight/2020_10_07_12_12_MCnt-cls-loss_ce_bs_32_epoch37_acc:0.4616.h5\n",
      "1e-05\n",
      "\n",
      "Epoch: 38, batch: 32\n",
      "train: 100%|██████████| 8/8 [00:00<00:00, 411.14it/s, cross entropy - 1.071, accuracy - 0.4674]\n",
      "valid: 100%|██████████| 4/4 [00:00<00:00, 692.16it/s, cross entropy - 1.07, accuracy - 0.4382]\n",
      "1e-05\n",
      "\n",
      "Epoch: 39, batch: 32\n",
      "train: 100%|██████████| 8/8 [00:00<00:00, 413.38it/s, cross entropy - 1.07, accuracy - 0.4552]\n",
      "valid: 100%|██████████| 4/4 [00:00<00:00, 711.20it/s, cross entropy - 1.07, accuracy - 0.4382]\n",
      "1e-05\n",
      "\n",
      "Epoch: 40, batch: 32\n",
      "train: 100%|██████████| 8/8 [00:00<00:00, 410.54it/s, cross entropy - 1.069, accuracy - 0.4768]\n",
      "valid: 100%|██████████| 4/4 [00:00<00:00, 683.33it/s, cross entropy - 1.07, accuracy - 0.446]\n",
      "1e-05\n",
      "\n",
      "Epoch: 41, batch: 32\n",
      "train: 100%|██████████| 8/8 [00:00<00:00, 410.81it/s, cross entropy - 1.07, accuracy - 0.4724]\n",
      "valid: 100%|██████████| 4/4 [00:00<00:00, 714.17it/s, cross entropy - 1.07, accuracy - 0.446]\n",
      "1e-05\n",
      "\n",
      "Epoch: 42, batch: 32\n",
      "train: 100%|██████████| 8/8 [00:00<00:00, 408.24it/s, cross entropy - 1.067, accuracy - 0.4813]\n",
      "valid: 100%|██████████| 4/4 [00:00<00:00, 710.75it/s, cross entropy - 1.069, accuracy - 0.446]\n",
      "1e-05\n",
      "\n",
      "Epoch: 43, batch: 32\n",
      "train: 100%|██████████| 8/8 [00:00<00:00, 408.69it/s, cross entropy - 1.066, accuracy - 0.4729]\n",
      "valid: 100%|██████████| 4/4 [00:00<00:00, 709.13it/s, cross entropy - 1.069, accuracy - 0.4382]\n",
      "1e-05\n",
      "\n",
      "Epoch: 44, batch: 32\n",
      "train: 100%|██████████| 8/8 [00:00<00:00, 411.35it/s, cross entropy - 1.066, accuracy - 0.4552]\n",
      "valid: 100%|██████████| 4/4 [00:00<00:00, 711.80it/s, cross entropy - 1.069, accuracy - 0.4382]\n",
      "1e-05\n",
      "\n",
      "Epoch: 45, batch: 32\n",
      "train: 100%|██████████| 8/8 [00:00<00:00, 409.92it/s, cross entropy - 1.068, accuracy - 0.4641]\n",
      "valid: 100%|██████████| 4/4 [00:00<00:00, 704.84it/s, cross entropy - 1.069, accuracy - 0.4382]\n",
      "1e-05\n",
      "\n",
      "Epoch: 46, batch: 32\n",
      "train: 100%|██████████| 8/8 [00:00<00:00, 411.24it/s, cross entropy - 1.068, accuracy - 0.4685]\n",
      "valid: 100%|██████████| 4/4 [00:00<00:00, 683.67it/s, cross entropy - 1.069, accuracy - 0.4382]\n",
      "1e-05\n",
      "\n",
      "Epoch: 47, batch: 32\n",
      "train: 100%|██████████| 8/8 [00:00<00:00, 399.63it/s, cross entropy - 1.065, accuracy - 0.4596]\n",
      "valid: 100%|██████████| 4/4 [00:00<00:00, 701.80it/s, cross entropy - 1.068, accuracy - 0.4382]\n",
      "1e-05\n",
      "\n",
      "Epoch: 48, batch: 32\n",
      "train: 100%|██████████| 8/8 [00:00<00:00, 406.15it/s, cross entropy - 1.066, accuracy - 0.4729]\n",
      "valid: 100%|██████████| 4/4 [00:00<00:00, 676.12it/s, cross entropy - 1.068, accuracy - 0.4226]\n",
      "1e-05\n",
      "\n",
      "Epoch: 49, batch: 32\n",
      "train: 100%|██████████| 8/8 [00:00<00:00, 412.26it/s, cross entropy - 1.063, accuracy - 0.4813]\n",
      "valid: 100%|██████████| 4/4 [00:00<00:00, 707.33it/s, cross entropy - 1.068, accuracy - 0.4226]\n",
      "1e-05\n",
      "\n",
      "Epoch: 50, batch: 32\n",
      "train: 100%|██████████| 8/8 [00:00<00:00, 410.53it/s, cross entropy - 1.064, accuracy - 0.4695]\n",
      "valid: 100%|██████████| 4/4 [00:00<00:00, 700.16it/s, cross entropy - 1.067, accuracy - 0.4382]\n",
      "1e-05\n",
      "\n",
      "Epoch: 51, batch: 32\n",
      "train: 100%|██████████| 8/8 [00:00<00:00, 407.85it/s, cross entropy - 1.064, accuracy - 0.4562]\n",
      "valid: 100%|██████████| 4/4 [00:00<00:00, 691.53it/s, cross entropy - 1.067, accuracy - 0.4382]\n",
      "1e-05\n",
      "\n",
      "Epoch: 52, batch: 32\n",
      "train: 100%|██████████| 8/8 [00:00<00:00, 404.04it/s, cross entropy - 1.064, accuracy - 0.4602]\n",
      "valid: 100%|██████████| 4/4 [00:00<00:00, 703.62it/s, cross entropy - 1.067, accuracy - 0.446]\n",
      "1e-05\n",
      "\n",
      "Epoch: 53, batch: 32\n",
      "train: 100%|██████████| 8/8 [00:00<00:00, 412.67it/s, cross entropy - 1.063, accuracy - 0.468]\n",
      "valid: 100%|██████████| 4/4 [00:00<00:00, 710.81it/s, cross entropy - 1.067, accuracy - 0.446]\n",
      "1e-05\n",
      "\n",
      "Epoch: 54, batch: 32\n",
      "train: 100%|██████████| 8/8 [00:00<00:00, 410.51it/s, cross entropy - 1.063, accuracy - 0.4685]\n",
      "valid: 100%|██████████| 4/4 [00:00<00:00, 688.01it/s, cross entropy - 1.067, accuracy - 0.446]\n",
      "1e-05\n",
      "\n",
      "Epoch: 55, batch: 32\n",
      "train: 100%|██████████| 8/8 [00:00<00:00, 413.44it/s, cross entropy - 1.064, accuracy - 0.4641]\n",
      "valid: 100%|██████████| 4/4 [00:00<00:00, 713.32it/s, cross entropy - 1.066, accuracy - 0.446]\n",
      "1e-05\n",
      "\n",
      "Epoch: 56, batch: 32\n",
      "train: 100%|██████████| 8/8 [00:00<00:00, 413.42it/s, cross entropy - 1.062, accuracy - 0.4651]\n",
      "valid: 100%|██████████| 4/4 [00:00<00:00, 681.28it/s, cross entropy - 1.065, accuracy - 0.4382]\n",
      "1e-05\n",
      "\n",
      "Epoch: 57, batch: 32\n",
      "train: 100%|██████████| 8/8 [00:00<00:00, 414.10it/s, cross entropy - 1.061, accuracy - 0.4602]\n",
      "valid: 100%|██████████| 4/4 [00:00<00:00, 704.75it/s, cross entropy - 1.065, accuracy - 0.4382]\n",
      "1e-05\n",
      "\n",
      "Epoch: 58, batch: 32\n",
      "train: 100%|██████████| 8/8 [00:00<00:00, 413.89it/s, cross entropy - 1.06, accuracy - 0.4685]\n",
      "valid: 100%|██████████| 4/4 [00:00<00:00, 692.73it/s, cross entropy - 1.066, accuracy - 0.4382]\n",
      "1e-05\n",
      "\n",
      "Epoch: 59, batch: 32\n",
      "train: 100%|██████████| 8/8 [00:00<00:00, 413.46it/s, cross entropy - 1.062, accuracy - 0.4729]\n",
      "valid: 100%|██████████| 4/4 [00:00<00:00, 608.71it/s, cross entropy - 1.066, accuracy - 0.4382]\n",
      "1e-05\n"
     ]
    }
   ],
   "source": [
    "import time\n",
    "current_time = time.strftime(\"%Y_%m_%d_%H_%M\", time.localtime())\n",
    "\n",
    "model_name = '/home/Tsung/pathology/weight/' + \"{}_MCnt-{}-loss_{}_bs_{}\".format(\n",
    "    current_time, target, train_loss, bs)\n",
    "\n",
    "cur_metric = 0\n",
    "\n",
    "train_history = []\n",
    "valid_history = []\n",
    "for i in range(0, epoch):\n",
    "    # adjust_learning_rate(optimizer, i)\n",
    "    print('\\nEpoch: {}, batch: {}'.format(i, bs))\n",
    "    train_logs = train_epoch.run(train_loader)\n",
    "    valid_logs = valid_epoch.run(valid_loader)\n",
    "    train_history.append(train_logs)\n",
    "    valid_history.append(valid_logs)\n",
    "#     lr_scheduler.step()\n",
    "    \n",
    "    if cur_metric < valid_logs[metrics[0].__name__]:\n",
    "        cur_metric = valid_logs[metrics[0].__name__]\n",
    "        torch.save(model.state_dict(), model_name+\"_epoch{}_{}:{:.4f}\".format(i,train_metric, cur_metric)+\".h5\")\n",
    "        print('Model saved!', model_name+\"_epoch{}_{}:{:.4f}\".format(i,train_metric, cur_metric)+\".h5\")\n",
    "\n",
    "    for param_group in optimizer.param_groups:\n",
    "        print(param_group['lr'])\n",
    "#     if cur_metric > valid_logs[metrics[0].__name__]:\n",
    "#         cur_metric = valid_logs[metrics[0].__name__]\n",
    "#         torch.save(model.state_dict(), model_name+\"_epoch{}_{}:{:.4f}\".format(i,train_metric, cur_metric)+\".h5\")\n",
    "#         print('Model saved!', model_name+\"_epoch{}_{}:{:.4f}\".format(i,train_metric, cur_metric)+\".h5\")"
   ]
  },
  {
   "cell_type": "code",
   "execution_count": 23,
   "metadata": {},
   "outputs": [
    {
     "data": {
      "text/plain": [
       "classifier(\n",
       "  (dense1): Linear(in_features=512, out_features=128, bias=True)\n",
       "  (dense2): Linear(in_features=128, out_features=16, bias=True)\n",
       "  (dense3): Linear(in_features=16, out_features=3, bias=True)\n",
       "  (act): ReLU()\n",
       ")"
      ]
     },
     "execution_count": 23,
     "metadata": {},
     "output_type": "execute_result"
    }
   ],
   "source": [
    "model.eval()"
   ]
  },
  {
   "cell_type": "code",
   "execution_count": 28,
   "metadata": {},
   "outputs": [
    {
     "name": "stdout",
     "output_type": "stream",
     "text": [
      "[0 2 1 2 2 2 2 1 0 1 0 1 0 0 1 2 1 2 0 1 0 1 0 0 2 2 0 0 1 1 2 0]\n"
     ]
    }
   ],
   "source": [
    "for data in valid_loader:\n",
    "    feature, label = data\n",
    "    feature = feature.cuda()\n",
    "    with torch.no_grad():\n",
    "        pred = model(feature)\n",
    "    pred = torch.softmax(pred, dim = 1)\n",
    "    pred = torch.argmax(pred, dim = 1)\n",
    "    pred = pred.detach().cpu().numpy()\n",
    "    print(pred)\n",
    "    "
   ]
  },
  {
   "cell_type": "markdown",
   "metadata": {},
   "source": [
    "# plt"
   ]
  },
  {
   "cell_type": "code",
   "execution_count": 18,
   "metadata": {},
   "outputs": [
    {
     "name": "stdout",
     "output_type": "stream",
     "text": [
      "95\n",
      "89\n",
      "55\n"
     ]
    },
    {
     "name": "stderr",
     "output_type": "stream",
     "text": [
      "/opt/conda/lib/python3.6/site-packages/seaborn/distributions.py:2551: FutureWarning: `distplot` is a deprecated function and will be removed in a future version. Please adapt your code to use either `displot` (a figure-level function with similar flexibility) or `histplot` (an axes-level function for histograms).\n",
      "  warnings.warn(msg, FutureWarning)\n"
     ]
    },
    {
     "data": {
      "text/plain": [
       "<matplotlib.axes._subplots.AxesSubplot at 0x7f440883cc88>"
      ]
     },
     "execution_count": 18,
     "metadata": {},
     "output_type": "execute_result"
    },
    {
     "data": {
      "image/png": "[encoded data removed]",
      "text/plain": [
       "<Figure size 432x288 with 1 Axes>"
      ]
     },
     "metadata": {
      "needs_background": "light"
     },
     "output_type": "display_data"
    }
   ],
   "source": [
    "_temp = []\n",
    "for i in train_cohorts:\n",
    "    _temp.append(cvt2Classy(cohort_count_dict[i]))\n",
    "_temp = np.array(_temp)\n",
    "\n",
    "number_of_class = []\n",
    "for i in range(3):\n",
    "    print(np.count_nonzero(_temp == i))\n",
    "    number_of_class.append(np.count_nonzero(_temp == i))\n",
    "import seaborn as sns\n",
    "sns.distplot(_temp)"
   ]
  },
  {
   "cell_type": "code",
   "execution_count": 19,
   "metadata": {},
   "outputs": [],
   "source": [
    "from sklearn.utils import class_weight\n",
    "class_weights = class_weight.compute_class_weight('balanced',\n",
    "                                                 np.unique(_temp),\n",
    "                                                 _temp)\n"
   ]
  },
  {
   "cell_type": "code",
   "execution_count": 36,
   "metadata": {},
   "outputs": [
    {
     "name": "stdout",
     "output_type": "stream",
     "text": [
      "52\n",
      "47\n",
      "19\n"
     ]
    },
    {
     "name": "stderr",
     "output_type": "stream",
     "text": [
      "/opt/conda/lib/python3.6/site-packages/seaborn/distributions.py:2551: FutureWarning: `distplot` is a deprecated function and will be removed in a future version. Please adapt your code to use either `displot` (a figure-level function with similar flexibility) or `histplot` (an axes-level function for histograms).\n",
      "  warnings.warn(msg, FutureWarning)\n"
     ]
    },
    {
     "data": {
      "text/plain": [
       "<matplotlib.axes._subplots.AxesSubplot at 0x7f735b90a198>"
      ]
     },
     "execution_count": 36,
     "metadata": {},
     "output_type": "execute_result"
    },
    {
     "data": {
      "image/png": "[encoded data removed]",
      "text/plain": [
       "<Figure size 432x288 with 1 Axes>"
      ]
     },
     "metadata": {
      "needs_background": "light"
     },
     "output_type": "display_data"
    }
   ],
   "source": [
    "_temp = []\n",
    "for i in valid_cohorts:\n",
    "    _temp.append(cvt2Classy(cohort_count_dict[i]))\n",
    "_temp = np.array(_temp)\n",
    "for i in range(3):\n",
    "    print(np.count_nonzero(_temp == i))\n",
    "import seaborn as sns\n",
    "sns.distplot(_temp)"
   ]
  },
  {
   "cell_type": "code",
   "execution_count": null,
   "metadata": {},
   "outputs": [],
   "source": []
  }
 ],
 "metadata": {
  "kernelspec": {
   "display_name": "Python 3",
   "language": "python",
   "name": "python3"
  },
  "language_info": {
   "codemirror_mode": {
    "name": "ipython",
    "version": 3
   },
   "file_extension": ".py",
   "mimetype": "text/x-python",
   "name": "python",
   "nbconvert_exporter": "python",
   "pygments_lexer": "ipython3",
   "version": "3.6.9"
  }
 },
 "nbformat": 4,
 "nbformat_minor": 2
}
