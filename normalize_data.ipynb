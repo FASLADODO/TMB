{
 "cells": [
  {
   "cell_type": "code",
   "execution_count": 1,
   "metadata": {},
   "outputs": [],
   "source": [
    "from __future__ import absolute_import, division, print_function, unicode_literals\n",
    "import utils\n",
    "import cv2\n",
    "import matplotlib.pyplot as plt\n",
    "from matplotlib.colors import ListedColormap, LinearSegmentedColormap\n",
    "import glob\n",
    "import os\n",
    "import tqdm\n",
    "%matplotlib inline"
   ]
  },
  {
   "cell_type": "code",
   "execution_count": null,
   "metadata": {
    "scrolled": true
   },
   "outputs": [],
   "source": [
    "all_folders = sorted(os.listdir(\"/home/Tsung/pathology/data/tcga/patches\"))\n",
    "fail_image = []\n",
    "for one_folder in all_folders:\n",
    "    all_images = glob.glob(\"/home/Tsung/pathology/data/tcga/patches/\" + one_folder + '/*.jpg')\n",
    "    \n",
    "    if not os.path.isdir(os.path.join(\"/home/Tsung/pathology/data/tcga/normalize_patches/\", one_folder)):\n",
    "        os.mkdir(os.path.join(\"/home/Tsung/pathology/data/tcga/normalize_patches/\", one_folder))\n",
    "    dest_folder = os.path.join(\"/home/Tsung/pathology/data/tcga/normalize_patches/\", one_folder)\n",
    "    for path in tqdm.tqdm(all_images):\n",
    "        name, extension = os.path.splitext(path)\n",
    "        name = name.split('/')[-1]\n",
    "    \n",
    "        if os.path.exists(os.path.join(dest_folder, name+\".jpg\")):\n",
    "            continue\n",
    "        \n",
    "        img = cv2.imread(path)\n",
    "        im_rgb = cv2.cvtColor(img, cv2.COLOR_BGR2RGB)\n",
    "        im_rgb_reshape = cv2.resize(im_rgb, (256, 256))\n",
    "        \n",
    "        try:\n",
    "            imgNorm, imgH, imgE = utils.normalizeStaining.normalizeStaining(img = im_rgb_reshape,\n",
    "                        saveFile = os.path.join(dest_folder, name),\n",
    "                        )\n",
    "        except:\n",
    "            fail_image.append(path)"
   ]
  },
  {
   "cell_type": "code",
   "execution_count": null,
   "metadata": {},
   "outputs": [],
   "source": [
    "import pickle\n",
    "with open('/home/Tsung/pathology/data/tcga/normalize_patches/fail_image.pkl', 'a') as f:\n",
    "    pickle.dump(fail_image, f)"
   ]
  }
 ],
 "metadata": {
  "kernelspec": {
   "display_name": "Python 3",
   "language": "python",
   "name": "python3"
  },
  "language_info": {
   "codemirror_mode": {
    "name": "ipython",
    "version": 3
   },
   "file_extension": ".py",
   "mimetype": "text/x-python",
   "name": "python",
   "nbconvert_exporter": "python",
   "pygments_lexer": "ipython3",
   "version": "3.6.9"
  }
 },
 "nbformat": 4,
 "nbformat_minor": 2
}
