{
 "cells": [
  {
   "cell_type": "code",
   "execution_count": null,
   "metadata": {},
   "outputs": [],
   "source": [
    "from __future__ import absolute_import, division, print_function, unicode_literals\n",
    "import matplotlib.pyplot as plt\n",
    "from matplotlib.colors import ListedColormap, LinearSegmentedColormap\n",
    "%matplotlib inline\n",
    "import numpy as np\n",
    "import pandas as pd\n",
    "import os, shutil, glob, sys, math, cv2, re\n",
    "\n",
    "import segmentation_models_pytorch as smp\n",
    "import albumentations as albu\n",
    "from torchsummary import summary\n",
    "\n",
    "from tqdm import tqdm"
   ]
  },
  {
   "cell_type": "code",
   "execution_count": null,
   "metadata": {},
   "outputs": [],
   "source": [
    "import torch\n",
    "import torch.nn as nn\n",
    "import torch.nn.functional as F\n",
    "import torch.utils.checkpoint as cp\n",
    "from collections import OrderedDict\n",
    "from torch.utils.model_zoo import load_url as load_state_dict_from_url\n",
    "from torch import Tensor\n",
    "from torch.jit.annotations import List\n",
    "from torchvision import models\n",
    "\n",
    "from torch.utils.data import DataLoader\n",
    "from torch.utils.data import Dataset as BaseDataset\n",
    "\n",
    "from sklearn.model_selection import train_test_split"
   ]
  },
  {
   "cell_type": "markdown",
   "metadata": {},
   "source": [
    "# model"
   ]
  },
  {
   "cell_type": "code",
   "execution_count": null,
   "metadata": {},
   "outputs": [],
   "source": [
    "model = models.resnet18(pretrained=True)\n",
    "model.fc = nn.Linear(in_features=512, out_features=2, bias=True)\n",
    "model.load_state_dict(torch.load(\"2020_09_22_18_52_46_Resnet18-tumor-or-nonTumor_Dataset_Zenodo.h5\"))\n",
    "model.cuda()\n",
    "model.eval()"
   ]
  },
  {
   "cell_type": "markdown",
   "metadata": {},
   "source": [
    "# dataset"
   ]
  },
  {
   "cell_type": "code",
   "execution_count": null,
   "metadata": {},
   "outputs": [],
   "source": [
    "def get_augmentation():\n",
    "    \"\"\"Add paddings to make image shape divisible by 32\"\"\"\n",
    "    test_transform = [\n",
    "        albu.Resize(height = 224, width = 224, always_apply=True),\n",
    "    ]\n",
    "    return albu.Compose(test_transform)\n",
    "\n",
    "\n",
    "def to_tensor(x, **kwargs):\n",
    "    return x.transpose(2, 0, 1).astype('float32')\n",
    "\n",
    "# https://github.com/pytorch/vision/blob/master/torchvision/transforms/functional.py, to_tensor     \n",
    "def to0_1(x, **kwargs):\n",
    "    return x/255\n",
    "\n",
    "def get_preprocessing():\n",
    "\n",
    "    _transform = [\n",
    "        albu.Lambda(image=to_tensor, mask=to_tensor),\n",
    "        albu.Lambda(image=to0_1, mask=to0_1),\n",
    "    ]\n",
    "    return albu.Compose(_transform)"
   ]
  },
  {
   "cell_type": "code",
   "execution_count": null,
   "metadata": {},
   "outputs": [],
   "source": [
    "class Dataset(BaseDataset):\n",
    "    \n",
    "    def __init__(self, image_array, augmentation=None, preprocessing=None):\n",
    "        self.image_array = image_array\n",
    "        self.augmentation = augmentation\n",
    "        self.preprocessing = preprocessing\n",
    "    \n",
    "    def __getitem__(self, i):\n",
    "        fp = self.image_array[i]\n",
    "        \n",
    "        image = cv2.imread(fp)\n",
    "        image = cv2.cvtColor(image, cv2.COLOR_BGR2RGB)\n",
    "#         imgNorm= normalizeStaining.normalizeStaining(img = im_rgb)\n",
    "        # apply augmentations\n",
    "        if self.augmentation:\n",
    "            sample = self.augmentation(image=image)\n",
    "            image = sample['image']\n",
    "        \n",
    "        # apply preprocessing\n",
    "        if self.preprocessing:\n",
    "            sample = self.preprocessing(image=image)\n",
    "            image = sample['image']\n",
    "        \n",
    "        return fp, image\n",
    "    \n",
    "    def __len__(self):\n",
    "        return len(self.image_array)"
   ]
  },
  {
   "cell_type": "code",
   "execution_count": null,
   "metadata": {},
   "outputs": [],
   "source": [
    "patches_folder = '/nfs/Shared/data/tcga/patches'\n",
    "all_folders = sorted(os.listdir(patches_folder))"
   ]
  },
  {
   "cell_type": "code",
   "execution_count": null,
   "metadata": {},
   "outputs": [],
   "source": [
    "for number, folder_name in enumerate(all_folders):\n",
    "    \n",
    "    all_images = sorted(glob.glob(os.path.join(patches_folder, folder_name, \"*.jpg\")))\n",
    "    \n",
    "    test_dataset = Dataset(\n",
    "        all_images,\n",
    "        augmentation = get_augmentation(),\n",
    "        preprocessing = get_preprocessing()\n",
    "    )\n",
    "    test_dataloader = DataLoader(test_dataset, batch_size=32, shuffle=False, num_workers=32)\n",
    "    \n",
    "    is_tumor_image_name = np.array([])\n",
    "    \n",
    "    for data in test_dataloader:\n",
    "        image_names, images = data\n",
    "        image_names = np.array([name for name in image_names])\n",
    "        \n",
    "        images = images.cuda()\n",
    "        \n",
    "        with torch.no_grad():\n",
    "            pred = model(images)\n",
    "        pred = torch.softmax(pred, axis = 1)\n",
    "        pred = torch.argmax(pred, axis = 1)\n",
    "        pred = pred.detach().cpu().numpy()\n",
    "        \n",
    "        if len(pred.shape) != 1:\n",
    "            pred = pred.squeeze()\n",
    "            \n",
    "        tp = np.where(pred == 1)[0]\n",
    "        is_tumor_image_name = np.concatenate((is_tumor_image_name, image_names[tp]))\n",
    "    print(\"{}, all_images: {}, tumor_images: {}\".format(number, len(all_images), len(is_tumor_image_name)))\n",
    "    np.save(\"/nfs/Shared/data/tcga/tumor/{}.npy\".format(folder_name), is_tumor_image_name)\n"
   ]
  },
  {
   "cell_type": "code",
   "execution_count": null,
   "metadata": {},
   "outputs": [],
   "source": [
    "npy = glob.glob(\"/nfs/Shared/data/tcga/tumor/*.npy\")\n",
    "c = 0\n",
    "for i in npy:\n",
    "    j = np.load(i)\n",
    "    c += len(j)"
   ]
  }
 ],
 "metadata": {
  "kernelspec": {
   "display_name": "Python 3",
   "language": "python",
   "name": "python3"
  }
 },
 "nbformat": 4,
 "nbformat_minor": 2
}
